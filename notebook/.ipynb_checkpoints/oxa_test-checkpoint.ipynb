{
 "cells": [
  {
   "cell_type": "code",
   "execution_count": 1,
   "metadata": {},
   "outputs": [],
   "source": [
    "from Oaxaca import Oaxaca\n",
    "import numpy as np\n",
    "import pandas as pd\n",
    "from sklearn.linear_model import LinearRegression\n",
    "df=pd.read_csv(\"../data/Small_Data.csv\")\n",
    "df['Employed']=df['Employed'].astype(\"str\")"
   ]
  },
  {
   "cell_type": "code",
   "execution_count": 2,
   "metadata": {},
   "outputs": [],
   "source": [
    "by=\"Gender\"\n",
    "endog=\"Approved\"\n",
    "#'Debt','Age',\"Income\",'Industry','Ethnicity',\"Employed\",\"Citizen\",\"PriorDefault\",\"Married\"\n",
    "features=['Debt','Age',\"Income\",'Industry','Ethnicity',\"Employed\",\"Citizen\",\"PriorDefault\",\"Married\"]"
   ]
  },
  {
   "cell_type": "code",
   "execution_count": 3,
   "metadata": {},
   "outputs": [
    {
     "name": "stdout",
     "output_type": "stream",
     "text": [
      "Raw gap between first group and second group: -0.03125\n"
     ]
    }
   ],
   "source": [
    "df_select=pd.get_dummies(df[[by,endog]+features], drop_first=True)\n",
    "f_group=df_select[df_select[by]==1]\n",
    "s_group=df_select[df_select[by]==0]\n",
    "print(\"Raw gap between first group and second group: {}\".format(f_group['Approved'].mean()-s_group['Approved'].mean()))"
   ]
  },
  {
   "cell_type": "code",
   "execution_count": 4,
   "metadata": {},
   "outputs": [],
   "source": [
    "f_reg = LinearRegression().fit(f_group.drop([by,endog], axis=1), f_group[endog].values)\n",
    "s_reg = LinearRegression().fit(s_group.drop([by,endog], axis=1), s_group[endog].values)\n",
    "diff=f_group.drop([by,endog],axis=1).mean(axis=0)-s_group.drop([by,endog],axis=1).mean(axis=0)"
   ]
  },
  {
   "cell_type": "code",
   "execution_count": 5,
   "metadata": {},
   "outputs": [],
   "source": [
    "explained=f_reg.coef_.dot(diff)\n",
    "unexplained=f_reg.intercept_-s_reg.intercept_+(f_reg.coef_-s_reg.coef_).dot(s_group.drop([by,endog],axis=1).mean(axis=0))"
   ]
  },
  {
   "cell_type": "code",
   "execution_count": 6,
   "metadata": {},
   "outputs": [
    {
     "name": "stdout",
     "output_type": "stream",
     "text": [
      "Explained: -0.03143308371074524\n",
      "Unexplained: 0.00018308371074515772\n"
     ]
    }
   ],
   "source": [
    "print(\"Explained: {}\".format(explained))\n",
    "print(\"Unexplained: {}\".format(unexplained))"
   ]
  },
  {
   "cell_type": "code",
   "execution_count": 7,
   "metadata": {},
   "outputs": [
    {
     "name": "stdout",
     "output_type": "stream",
     "text": [
      "These are the attempted split values: Float64Index([1.0, 0.0], dtype='float64')\n",
      "Unexplained Effect: -0.0065471866\n",
      "Explained Effect: -0.0247028134\n",
      "Gap: -0.03125\n"
     ]
    },
    {
     "data": {
      "text/plain": [
       "(-0.0065471866, -0.0247028134, -0.03125)"
      ]
     },
     "execution_count": 7,
     "metadata": {},
     "output_type": "execute_result"
    }
   ],
   "source": [
    "df_numarray=pd.get_dummies(df[[endog,by]+features], drop_first=True).values\n",
    "ox = Oaxaca(df_numarray, by=1, endo=0, debug=True)\n",
    "ox.two_fold(round_val=10)"
   ]
  }
 ],
 "metadata": {
  "kernelspec": {
   "display_name": "Python 3",
   "language": "python",
   "name": "python3"
  },
  "language_info": {
   "codemirror_mode": {
    "name": "ipython",
    "version": 3
   },
   "file_extension": ".py",
   "mimetype": "text/x-python",
   "name": "python",
   "nbconvert_exporter": "python",
   "pygments_lexer": "ipython3",
   "version": "3.8.5"
  }
 },
 "nbformat": 4,
 "nbformat_minor": 4
}
