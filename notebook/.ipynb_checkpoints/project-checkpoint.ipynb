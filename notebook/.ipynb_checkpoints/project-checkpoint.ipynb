{
 "cells": [
  {
   "cell_type": "markdown",
   "metadata": {},
   "source": [
    "<h1> Project: Sleep Quality Data Analysis </h1>\n",
    "<h2> Names: Jingzhi Yang, Wenhan Bo </h2>\n",
    "<h3><a href=\"https://yship1002.github.io\">https://yship1002.github.io</a></h3></center>"
   ]
  },
  {
   "cell_type": "markdown",
   "metadata": {},
   "source": [
    "<h1 style=\"text-align:left\">Project Goal</h1>\n",
    "<p>We plan to use two public sleep quality datasets we found to answer the following questions through the extraction, analysis, and visualization of data.</p>\n",
    "<p>1. Which factors have the biggest impact on sleep quality?</p>\n",
    "<p>2. What can we do to improve sleep quality in this modern society? </p>"
   ]
  },
  {
   "cell_type": "markdown",
   "metadata": {},
   "source": [
    "<h1 style=\"text-align:left\">Datasets</h1>\n",
    "<p>Dataset 1: <a href=\"https://www.kaggle.com/datasets/arashnic/fitbit\">FitBit Fitness Tracker dataset</a></p>\n",
    "<p>This is a public dataset from Kaggle where 30 FitBit users consented to submit their personal fitness data for analysis. Fitbit trackers on these participants record a lot of useful data including sleep quality, sleep during the day, daily steps, weights, heartrates, daily calories consumption. This dataset is divided into several CSV files where each CSV file stores one feature of their fitness data. Each participant is labeled with a unique ID in those CSV files which makes it easier for us to correlate their sleep behaviors with their daily activities by joining the tables to answer our project questions.</p>\n",
    "<p>Dataset 2: <a href=\"https://www.kaggle.com/datasets/danagerous/sleep-data\">Sleep Cycle iOS App dataset</a></p>\n",
    "<p>YOUR REASONS TO ANALYZE THIS DATASET! </p>"
   ]
  },
  {
   "cell_type": "markdown",
   "metadata": {},
   "source": [
    "<h1 style=\"text-align:left\">Collaboration Plan</h1>\n",
    "<p>Since we will be working with two different data sets, it is natural to divide the work into half. Jingzhi will be working on FitBit Fitness Tracker dataset while Wenhan will be working on Sleep Cycle iOS App dataset. Both datasets come from Kaggle. We will be using python as our programming language and panda,numpy,matplotlib packages will be used to analyze and visualize the data. We plan to meet twice every week, one in Wednesday morning and the other in Sunday evening to discuss our progress and share our findings. We agreed to set up a google doc to share useful resources as well as any interesting findings worth mentioning in our weekly meetings.</p>"
   ]
  },
  {
   "cell_type": "code",
   "execution_count": 16,
   "metadata": {},
   "outputs": [
    {
     "ename": "FileNotFoundError",
     "evalue": "[Errno 2] No such file or directory: '../data/FitBitData'",
     "output_type": "error",
     "traceback": [
      "\u001b[0;31m---------------------------------------------------------------------------\u001b[0m",
      "\u001b[0;31mFileNotFoundError\u001b[0m                         Traceback (most recent call last)",
      "\u001b[0;32m<ipython-input-16-9d19272f3db1>\u001b[0m in \u001b[0;36m<module>\u001b[0;34m\u001b[0m\n\u001b[1;32m      2\u001b[0m \u001b[0;32mimport\u001b[0m \u001b[0mglob\u001b[0m\u001b[0;34m\u001b[0m\u001b[0;34m\u001b[0m\u001b[0m\n\u001b[1;32m      3\u001b[0m \u001b[0;32mimport\u001b[0m \u001b[0mos\u001b[0m\u001b[0;34m\u001b[0m\u001b[0;34m\u001b[0m\u001b[0m\n\u001b[0;32m----> 4\u001b[0;31m \u001b[0mos\u001b[0m\u001b[0;34m.\u001b[0m\u001b[0mlistdir\u001b[0m\u001b[0;34m(\u001b[0m\u001b[0;34m\"../data/FitBitData\"\u001b[0m\u001b[0;34m)\u001b[0m\u001b[0;34m\u001b[0m\u001b[0;34m\u001b[0m\u001b[0m\n\u001b[0m\u001b[1;32m      5\u001b[0m \u001b[0;34m\u001b[0m\u001b[0m\n\u001b[1;32m      6\u001b[0m \u001b[0;34m\u001b[0m\u001b[0m\n",
      "\u001b[0;31mFileNotFoundError\u001b[0m: [Errno 2] No such file or directory: '../data/FitBitData'"
     ]
    }
   ],
   "source": [
    "import pandas as pd\n",
    "import glob\n",
    "import os\n",
    "os.listdir(\"../data/FitBitData\")\n",
    "\n",
    "\n",
    "#a[:a.find(\"_\")]\n",
    "#df_list={file.:pd.read_csv(\"../data/FitBitData/sleepdata.csv\") for file in files}\n"
   ]
  }
 ],
 "metadata": {
  "kernelspec": {
   "display_name": "Python 3",
   "language": "python",
   "name": "python3"
  },
  "language_info": {
   "codemirror_mode": {
    "name": "ipython",
    "version": 3
   },
   "file_extension": ".py",
   "mimetype": "text/x-python",
   "name": "python",
   "nbconvert_exporter": "python",
   "pygments_lexer": "ipython3",
   "version": "3.8.5"
  }
 },
 "nbformat": 4,
 "nbformat_minor": 4
}
