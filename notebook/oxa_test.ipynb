{
 "cells": [
  {
   "cell_type": "code",
   "execution_count": 1,
   "metadata": {},
   "outputs": [],
   "source": [
    "from Oaxaca import Oaxaca\n",
    "import numpy as np\n",
    "import pandas as pd\n",
    "from sklearn.linear_model import LinearRegression\n",
    "df=pd.read_csv(\"../data/Small_Data.csv\")\n",
    "df['Employed']=df['Employed'].astype(\"str\")"
   ]
  },
  {
   "cell_type": "code",
   "execution_count": 2,
   "metadata": {},
   "outputs": [],
   "source": [
    "by=\"Gender\"\n",
    "endog=\"Approved\"\n",
    "#'Debt','Age',\"Income\",'Industry','Ethnicity',\"Employed\",\"Citizen\",\"PriorDefault\",\"Married\"\n",
    "features=['Debt','Age',\"Income\",'Industry','Ethnicity',\"Employed\",\"Citizen\",\"PriorDefault\",\"Married\"]"
   ]
  },
  {
   "cell_type": "code",
   "execution_count": 7,
   "metadata": {},
   "outputs": [
    {
     "name": "stdout",
     "output_type": "stream",
     "text": [
      "These are the attempted split values: Float64Index([1.0, 0.0], dtype='float64')\n",
      "Unexplained Effect: -0.0065471866\n",
      "Explained Effect: -0.0247028134\n",
      "Gap: -0.03125\n"
     ]
    },
    {
     "data": {
      "text/plain": [
       "(-0.0065471866, -0.0247028134, -0.03125)"
      ]
     },
     "execution_count": 7,
     "metadata": {},
     "output_type": "execute_result"
    }
   ],
   "source": [
    "df_numarray=pd.get_dummies(df[[endog,by]+features], drop_first=True).values\n",
    "ox = Oaxaca(df_numarray, by=1, endo=0, debug=True)\n",
    "ox.two_fold(round_val=10)"
   ]
  },
  {
   "cell_type": "markdown",
   "metadata": {},
   "source": [
    "<div>\n",
    "    \\int_{0}^{\\pi}\\frac{x^{4}\\left(1-x\\right)^{4}}{1+x^{2}}dx =\\frac{22}{7}-\\pi\n",
    "</div>"
   ]
  }
 ],
 "metadata": {
  "kernelspec": {
   "display_name": "Python 3",
   "language": "python",
   "name": "python3"
  },
  "language_info": {
   "codemirror_mode": {
    "name": "ipython",
    "version": 3
   },
   "file_extension": ".py",
   "mimetype": "text/x-python",
   "name": "python",
   "nbconvert_exporter": "python",
   "pygments_lexer": "ipython3",
   "version": "3.8.5"
  }
 },
 "nbformat": 4,
 "nbformat_minor": 4
}
