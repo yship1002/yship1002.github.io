{
 "cells": [
  {
   "cell_type": "markdown",
   "metadata": {},
   "source": [
    "<h1> Project: Sleep Quality Data Analysis </h1>\n",
    "<h2> Names: Jingzhi Yang, Wenhan Bo </h2>\n",
    "<h3><a href=\"https://yship1002.github.io\">https://yship1002.github.io</a></h3></center>"
   ]
  },
  {
   "cell_type": "markdown",
   "metadata": {},
   "source": [
    "<h1 style=\"text-align:left\">Project Goal</h1>\n",
    "<p>we plan to use public sleep quality datasets to answer the following questions through the extraction, analysis, and visualization of data.</p>\n",
    "<p>1. Which factors have the biggest impact on sleep quality? (FitBit Fitness Tracker dataset)</p>\n",
    "<p>2. What can we do to improve sleep quality in this modern society? </p>"
   ]
  },
  {
   "cell_type": "markdown",
   "metadata": {},
   "source": [
    "<h1 style=\"text-align:left\">Data Sets</h1>\n",
    "<p>Dataset 1: <a href=\"https://www.kaggle.com/datasets/arashnic/fitbit\">FitBit Fitness Tracker dataset</a></p>\n",
    "<p>We want to analyze this dataset because the data in this dataset is very clean and inclusive. 30 participants consented to submit their personal fitness data for analysis. Fitbit trackers on these participants record a lot of useful data including sleep quality data. This provides an advantage for us because we can easily correlate their sleep behavior with their daily activities to answer our project questions. Fitness data includes participants's sleep during the day, daily steps, their weights, heartrates, calories consumption</p>\n",
    "<p>Dataset 2: <a href=\"https://www.kaggle.com/datasets/danagerous/sleep-data\">Sleep Cycle iOS App dataset</a></p>\n",
    "<p>Justification: put your reasons to choose this dataset here! </p>"
   ]
  },
  {
   "cell_type": "markdown",
   "metadata": {},
   "source": [
    "<h1 style=\"text-align:left\">Collaboration Plan</h1>\n",
    "<p>Since we will be working with two different data sets, it is natural to divide the work into half. Jingzhi will be working on FitBit Fitness Tracker dataset while Wenhan will be working on Sleep Cycle iOS App dataset. Both datasets come from Kaggle. We will be using python as our programming language and panda,numpy,matplotlib packages will be used to analyze and visualize the data. We plan to meet twice every week, one in Wednesday morning and the other in Sunday evening to discuss our progress and share our findings. We agreed to set up a google doc to share useful resources as well as any interesting findings worth mentioning in our weekly meetings.</p>"
   ]
  },
  {
   "cell_type": "code",
   "execution_count": 2,
   "metadata": {},
   "outputs": [
    {
     "data": {
      "text/html": [
       "<div>\n",
       "<style scoped>\n",
       "    .dataframe tbody tr th:only-of-type {\n",
       "        vertical-align: middle;\n",
       "    }\n",
       "\n",
       "    .dataframe tbody tr th {\n",
       "        vertical-align: top;\n",
       "    }\n",
       "\n",
       "    .dataframe thead th {\n",
       "        text-align: right;\n",
       "    }\n",
       "</style>\n",
       "<table border=\"1\" class=\"dataframe\">\n",
       "  <thead>\n",
       "    <tr style=\"text-align: right;\">\n",
       "      <th></th>\n",
       "      <th>Start;End;Sleep quality;Time in bed;Wake up;Sleep Notes;Heart rate;Activity (steps)</th>\n",
       "    </tr>\n",
       "  </thead>\n",
       "  <tbody>\n",
       "    <tr>\n",
       "      <th>0</th>\n",
       "      <td>2014-12-29 22:57:49;2014-12-30 07:30:13;100%;8...</td>\n",
       "    </tr>\n",
       "    <tr>\n",
       "      <th>1</th>\n",
       "      <td>2014-12-30 21:17:50;2014-12-30 21:33:54;3%;0:1...</td>\n",
       "    </tr>\n",
       "    <tr>\n",
       "      <th>2</th>\n",
       "      <td>2014-12-30 22:42:49;2014-12-31 07:13:31;98%;8:...</td>\n",
       "    </tr>\n",
       "    <tr>\n",
       "      <th>3</th>\n",
       "      <td>2014-12-31 22:31:01;2015-01-01 06:03:01;65%;7:...</td>\n",
       "    </tr>\n",
       "    <tr>\n",
       "      <th>4</th>\n",
       "      <td>2015-01-01 22:12:10;2015-01-02 04:56:35;72%;6:...</td>\n",
       "    </tr>\n",
       "    <tr>\n",
       "      <th>...</th>\n",
       "      <td>...</td>\n",
       "    </tr>\n",
       "    <tr>\n",
       "      <th>882</th>\n",
       "      <td>2018-02-12 21:54:14;2018-02-13 07:02:15;91%;9:...</td>\n",
       "    </tr>\n",
       "    <tr>\n",
       "      <th>883</th>\n",
       "      <td>2018-02-13 23:49:19;2018-02-14 07:00:53;81%;7:...</td>\n",
       "    </tr>\n",
       "    <tr>\n",
       "      <th>884</th>\n",
       "      <td>2018-02-14 21:24:05;2018-02-15 06:20:52;71%;8:...</td>\n",
       "    </tr>\n",
       "    <tr>\n",
       "      <th>885</th>\n",
       "      <td>2018-02-15 21:36:32;2018-02-16 06:50:31;80%;9:...</td>\n",
       "    </tr>\n",
       "    <tr>\n",
       "      <th>886</th>\n",
       "      <td>2018-02-16 22:52:29;2018-02-17 07:48:04;91%;8:...</td>\n",
       "    </tr>\n",
       "  </tbody>\n",
       "</table>\n",
       "<p>887 rows × 1 columns</p>\n",
       "</div>"
      ],
      "text/plain": [
       "    Start;End;Sleep quality;Time in bed;Wake up;Sleep Notes;Heart rate;Activity (steps)\n",
       "0    2014-12-29 22:57:49;2014-12-30 07:30:13;100%;8...                                 \n",
       "1    2014-12-30 21:17:50;2014-12-30 21:33:54;3%;0:1...                                 \n",
       "2    2014-12-30 22:42:49;2014-12-31 07:13:31;98%;8:...                                 \n",
       "3    2014-12-31 22:31:01;2015-01-01 06:03:01;65%;7:...                                 \n",
       "4    2015-01-01 22:12:10;2015-01-02 04:56:35;72%;6:...                                 \n",
       "..                                                 ...                                 \n",
       "882  2018-02-12 21:54:14;2018-02-13 07:02:15;91%;9:...                                 \n",
       "883  2018-02-13 23:49:19;2018-02-14 07:00:53;81%;7:...                                 \n",
       "884  2018-02-14 21:24:05;2018-02-15 06:20:52;71%;8:...                                 \n",
       "885  2018-02-15 21:36:32;2018-02-16 06:50:31;80%;9:...                                 \n",
       "886  2018-02-16 22:52:29;2018-02-17 07:48:04;91%;8:...                                 \n",
       "\n",
       "[887 rows x 1 columns]"
      ]
     },
     "execution_count": 2,
     "metadata": {},
     "output_type": "execute_result"
    }
   ],
   "source": [
    "import pandas as pd\n",
    "df=pd.read_csv(\"../data/sleepdata.csv\")\n",
    "df"
   ]
  }
 ],
 "metadata": {
  "kernelspec": {
   "display_name": "Python 3",
   "language": "python",
   "name": "python3"
  },
  "language_info": {
   "codemirror_mode": {
    "name": "ipython",
    "version": 3
   },
   "file_extension": ".py",
   "mimetype": "text/x-python",
   "name": "python",
   "nbconvert_exporter": "python",
   "pygments_lexer": "ipython3",
   "version": "3.8.5"
  }
 },
 "nbformat": 4,
 "nbformat_minor": 4
}
