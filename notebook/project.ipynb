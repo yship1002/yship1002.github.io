{
 "cells": [
  {
   "cell_type": "markdown",
   "metadata": {},
   "source": [
    "<h1> Project: Sleep Quality Data Analysis </h1>\n",
    "<h2> Names: Jingzhi Yang, Wenhan Bo </h2>\n",
    "<h3><a href=\"https://yship1002.github.io\">https://yship1002.github.io</a></h3>"
   ]
  },
  {
   "cell_type": "markdown",
   "metadata": {},
   "source": [
    "<h1 style=\"text-align:left\">Project Goal</h1>\n",
    "<p>We plan to use two public sleep quality datasets we found to answer the following questions through the extraction, analysis, and visualization of data.</p>\n",
    "<p>1. Which factors have the biggest impact on sleep quality?</p>\n",
    "<p>2. What can we do to improve sleep quality in this modern society? </p>"
   ]
  },
  {
   "cell_type": "markdown",
   "metadata": {},
   "source": [
    "<h1 style=\"text-align:left\">Datasets</h1>\n",
    "<p>We believed the following two datasets have all the necessary information we need in order to answer the questions posted above. We also provided descriptions of our datasets as well as how we are going to use them.</p>\n",
    "<p>Dataset 1: <a href=\"https://www.kaggle.com/datasets/arashnic/fitbit\">FitBit Fitness Tracker dataset</a></p>\n",
    "<p>This is a public dataset from Kaggle where 30 FitBit users consented to submit their personal fitness data for analysis. Fitbit trackers on these participants record a lot of useful data including sleep quality, sleep during the day, daily steps, weights, heartrates and daily calories consumption. This dataset is a series of several CSV files where each CSV file stores one feature of fitness data. Each participant is labeled with a unique ID in those CSV files which makes it easier for us to correlate sleep behaviors with daily activities by joining the tables to answer our project questions.</p>\n",
    "<p>Dataset 2: <a href=\"https://www.kaggle.com/datasets/danagerous/sleep-data\">Sleep Cycle iOS App dataset</a></p>\n",
    "<p>YOUR REASONS TO ANALYZE THIS DATASET! </p>"
   ]
  },
  {
   "cell_type": "markdown",
   "metadata": {},
   "source": [
    "<h1 style=\"text-align:left\">Collaboration Plan</h1>\n",
    "<p>Since we will be working with two different data sets, it is natural to divide the work into half. Jingzhi will be working on FitBit Fitness Tracker dataset while Wenhan will be working on Sleep Cycle iOS App dataset. Both datasets come from Kaggle. We will be using python as our programming language and panda,numpy,matplotlib packages will be used to analyze and visualize the data. We plan to meet twice every week, one in Wednesday morning and the other in Sunday evening to discuss our progress and share our findings. We agreed to set up a google doc to share useful resources as well as any interesting findings worth mentioning in our weekly meetings.</p>"
   ]
  },
  {
   "cell_type": "markdown",
   "metadata": {},
   "source": [
    "<h1 style=\"text-align:left\">Exploratory Data Analysis</h1>\n",
    "<p>The first step is to load the data as panda dataframe.</p>"
   ]
  },
  {
   "cell_type": "code",
   "execution_count": 1,
   "metadata": {},
   "outputs": [
    {
     "data": {
      "text/plain": [
       "dict_keys(['minuteIntensitiesWide', 'dailyActivity', 'sleepDay', 'heartrate', 'minuteIntensitiesNarrow', 'minuteMETsNarrow', 'hourlySteps', 'hourlyIntensities', 'dailyCalories', 'hourlyCalories', 'minuteSleep', 'minuteCaloriesNarrow', 'dailySteps', 'minuteCaloriesWide', 'minuteStepsNarrow', 'minuteStepsWide', 'weightLogInfo', 'dailyIntensities'])"
      ]
     },
     "execution_count": 1,
     "metadata": {},
     "output_type": "execute_result"
    }
   ],
   "source": [
    "import pandas as pd\n",
    "import os\n",
    "import matplotlib.pyplot as plt\n",
    "import numpy as np\n",
    "files=os.listdir(\"../data/FitBitData\")\n",
    "df_list={file[:file.find(\"_\")]:pd.read_csv(\"../data/FitBitData/\"+file) for file in files}\n",
    "df_list.keys()"
   ]
  },
  {
   "cell_type": "markdown",
   "metadata": {},
   "source": [
    "<p>We started with sleepDay data and reformat the date column in order to join other tables later</p>"
   ]
  },
  {
   "cell_type": "code",
   "execution_count": 2,
   "metadata": {
    "scrolled": true
   },
   "outputs": [],
   "source": [
    "sleepDay=df_list[\"sleepDay\"]\n",
    "sleepDay.rename(columns={\"SleepDay\":'ActivityDay'},inplace=True)\n",
    "sleepDay['ActivityDay']=[x[:x.find(\" \")] for x in sleepDay['ActivityDay']]"
   ]
  },
  {
   "cell_type": "markdown",
   "metadata": {},
   "source": [
    "<h3 style=\"text-align:left\">How long does it take to fall asleep on avg?</h3>\n",
    "<p>We subtracted total time spent on bed by total time falling asleep to get the time people spend on bed before falling asleep</p>"
   ]
  },
  {
   "cell_type": "code",
   "execution_count": 3,
   "metadata": {},
   "outputs": [
    {
     "data": {
      "text/plain": [
       "count    413.000000\n",
       "mean      39.171913\n",
       "std       46.570095\n",
       "min        0.000000\n",
       "25%       17.000000\n",
       "50%       25.000000\n",
       "75%       40.000000\n",
       "max      371.000000\n",
       "Name: MinutesBeforeSleep, dtype: float64"
      ]
     },
     "execution_count": 3,
     "metadata": {},
     "output_type": "execute_result"
    }
   ],
   "source": [
    "sleepDay['MinutesBeforeSleep']=sleepDay['TotalTimeInBed']-sleepDay['TotalMinutesAsleep']\n",
    "sleepDay['MinutesBeforeSleep'].describe()"
   ]
  },
  {
   "cell_type": "markdown",
   "metadata": {},
   "source": [
    "Well it looks like people on average spend 40 mins on bed before sleep. The maximum time before bed is 371 mins (Netflix??? Disney??? Hulu???)"
   ]
  },
  {
   "cell_type": "markdown",
   "metadata": {},
   "source": [
    "<h3 style=\"text-align:left\">Does getting more steps increases sleeping time?</h3>\n",
    "<p>We plot daily steps against sleep minutes to see if there is positive correlation. Before plotting we need to merge sleepDay table with dailyStep table</p>"
   ]
  },
  {
   "cell_type": "code",
   "execution_count": 6,
   "metadata": {},
   "outputs": [
    {
     "data": {
      "text/plain": [
       "Text(0, 0.5, 'SleepMinutes')"
      ]
     },
     "execution_count": 6,
     "metadata": {},
     "output_type": "execute_result"
    },
    {
     "data": {
      "image/png": "[encoded data removed]",
      "text/plain": [
       "<Figure size 432x288 with 1 Axes>"
      ]
     },
     "metadata": {
      "needs_background": "light"
     },
     "output_type": "display_data"
    }
   ],
   "source": [
    "sleep_step=sleepDay.merge(df_list['dailySteps'],on=[\"Id\",\"ActivityDay\"],how=\"inner\")\n",
    "plt.scatter(sleep_step['StepTotal'],sleep_step['TotalMinutesAsleep'])\n",
    "plt.xlabel(\"DailySteps\")\n",
    "plt.ylabel(\"SleepMinutes\")"
   ]
  },
  {
   "cell_type": "markdown",
   "metadata": {},
   "source": [
    "<p>It doesn't appear that getting more daily steps helps sleeping time. In fact, there appears to be a weak negative correlation. Running a correlation matrix support our observation based on the graph</p>"
   ]
  },
  {
   "cell_type": "code",
   "execution_count": 8,
   "metadata": {},
   "outputs": [
    {
     "data": {
      "text/html": [
       "<div>\n",
       "<style scoped>\n",
       "    .dataframe tbody tr th:only-of-type {\n",
       "        vertical-align: middle;\n",
       "    }\n",
       "\n",
       "    .dataframe tbody tr th {\n",
       "        vertical-align: top;\n",
       "    }\n",
       "\n",
       "    .dataframe thead th {\n",
       "        text-align: right;\n",
       "    }\n",
       "</style>\n",
       "<table border=\"1\" class=\"dataframe\">\n",
       "  <thead>\n",
       "    <tr style=\"text-align: right;\">\n",
       "      <th></th>\n",
       "      <th>Id</th>\n",
       "      <th>TotalSleepRecords</th>\n",
       "      <th>TotalMinutesAsleep</th>\n",
       "      <th>TotalTimeInBed</th>\n",
       "      <th>MinutesBeforeSleep</th>\n",
       "      <th>StepTotal</th>\n",
       "    </tr>\n",
       "  </thead>\n",
       "  <tbody>\n",
       "    <tr>\n",
       "      <th>Id</th>\n",
       "      <td>1.000000</td>\n",
       "      <td>-0.012552</td>\n",
       "      <td>0.080117</td>\n",
       "      <td>0.002112</td>\n",
       "      <td>-0.197831</td>\n",
       "      <td>0.011345</td>\n",
       "    </tr>\n",
       "    <tr>\n",
       "      <th>TotalSleepRecords</th>\n",
       "      <td>-0.012552</td>\n",
       "      <td>1.000000</td>\n",
       "      <td>0.165912</td>\n",
       "      <td>0.172917</td>\n",
       "      <td>0.050317</td>\n",
       "      <td>-0.162490</td>\n",
       "    </tr>\n",
       "    <tr>\n",
       "      <th>TotalMinutesAsleep</th>\n",
       "      <td>0.080117</td>\n",
       "      <td>0.165912</td>\n",
       "      <td>1.000000</td>\n",
       "      <td>0.930457</td>\n",
       "      <td>-0.001762</td>\n",
       "      <td>-0.186866</td>\n",
       "    </tr>\n",
       "    <tr>\n",
       "      <th>TotalTimeInBed</th>\n",
       "      <td>0.002112</td>\n",
       "      <td>0.172917</td>\n",
       "      <td>0.930457</td>\n",
       "      <td>1.000000</td>\n",
       "      <td>0.364760</td>\n",
       "      <td>-0.164060</td>\n",
       "    </tr>\n",
       "    <tr>\n",
       "      <th>MinutesBeforeSleep</th>\n",
       "      <td>-0.197831</td>\n",
       "      <td>0.050317</td>\n",
       "      <td>-0.001762</td>\n",
       "      <td>0.364760</td>\n",
       "      <td>1.000000</td>\n",
       "      <td>0.027108</td>\n",
       "    </tr>\n",
       "    <tr>\n",
       "      <th>StepTotal</th>\n",
       "      <td>0.011345</td>\n",
       "      <td>-0.162490</td>\n",
       "      <td>-0.186866</td>\n",
       "      <td>-0.164060</td>\n",
       "      <td>0.027108</td>\n",
       "      <td>1.000000</td>\n",
       "    </tr>\n",
       "  </tbody>\n",
       "</table>\n",
       "</div>"
      ],
      "text/plain": [
       "                          Id  TotalSleepRecords  TotalMinutesAsleep  \\\n",
       "Id                  1.000000          -0.012552            0.080117   \n",
       "TotalSleepRecords  -0.012552           1.000000            0.165912   \n",
       "TotalMinutesAsleep  0.080117           0.165912            1.000000   \n",
       "TotalTimeInBed      0.002112           0.172917            0.930457   \n",
       "MinutesBeforeSleep -0.197831           0.050317           -0.001762   \n",
       "StepTotal           0.011345          -0.162490           -0.186866   \n",
       "\n",
       "                    TotalTimeInBed  MinutesBeforeSleep  StepTotal  \n",
       "Id                        0.002112           -0.197831   0.011345  \n",
       "TotalSleepRecords         0.172917            0.050317  -0.162490  \n",
       "TotalMinutesAsleep        0.930457           -0.001762  -0.186866  \n",
       "TotalTimeInBed            1.000000            0.364760  -0.164060  \n",
       "MinutesBeforeSleep        0.364760            1.000000   0.027108  \n",
       "StepTotal                -0.164060            0.027108   1.000000  "
      ]
     },
     "execution_count": 8,
     "metadata": {},
     "output_type": "execute_result"
    }
   ],
   "source": [
    "sleep_step.corr()"
   ]
  }
 ],
 "metadata": {
  "kernelspec": {
   "display_name": "Python 3",
   "language": "python",
   "name": "python3"
  },
  "language_info": {
   "codemirror_mode": {
    "name": "ipython",
    "version": 3
   },
   "file_extension": ".py",
   "mimetype": "text/x-python",
   "name": "python",
   "nbconvert_exporter": "python",
   "pygments_lexer": "ipython3",
   "version": "3.8.5"
  }
 },
 "nbformat": 4,
 "nbformat_minor": 4
}
